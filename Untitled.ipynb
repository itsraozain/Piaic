{
 "cells": [
  {
   "cell_type": "code",
   "execution_count": 1,
   "metadata": {},
   "outputs": [
    {
     "name": "stdout",
     "output_type": "stream",
     "text": [
      "Enter Your Namezain\n",
      "Enter your Father's namekanwar muhammad jamil\n",
      "Universitybahria uni\n",
      "\n",
      "PIAIC ISLAMABAD BATCH3\n",
      "Name : zain\n",
      "Father_Name: kanwar muhammad jamil \n",
      "University: bahria uni\n",
      "\n"
     ]
    }
   ],
   "source": [
    "name = input(\"Enter Your Name\")\n",
    "father_name = input(\"Enter your Father's name\")\n",
    "uni = input(\"University\")\n",
    "\n",
    "\n",
    "message = \"\"\"\n",
    "PIAIC ISLAMABAD BATCH3\n",
    "Name : {}\n",
    "Father_Name: {} \n",
    "University: {}\n",
    "\"\"\"\n",
    "\n",
    "message1 = message.format(name, father_name, uni)\n",
    "\n",
    "print(message1)"
   ]
  },
  {
   "cell_type": "code",
   "execution_count": 12,
   "metadata": {},
   "outputs": [
    {
     "name": "stdout",
     "output_type": "stream",
     "text": [
      "Enter Your Namezai\n",
      "Enter your Father's namejamil\n",
      "your math marks:21\n",
      "your phy marks:65\n",
      "your eng marks36\n",
      "your chem marks:98\n",
      "your urdu marks365\n"
     ]
    },
    {
     "ename": "TypeError",
     "evalue": "unsupported operand type(s) for /: 'str' and 'int'",
     "output_type": "error",
     "traceback": [
      "\u001b[1;31m---------------------------------------------------------------------------\u001b[0m",
      "\u001b[1;31mTypeError\u001b[0m                                 Traceback (most recent call last)",
      "\u001b[1;32m<ipython-input-12-771d03b7a04c>\u001b[0m in \u001b[0;36m<module>\u001b[1;34m\u001b[0m\n\u001b[0;32m     18\u001b[0m \u001b[0mint\u001b[0m\u001b[1;33m(\u001b[0m\u001b[0mpercenti\u001b[0m\u001b[1;33m)\u001b[0m\u001b[1;33m\u001b[0m\u001b[1;33m\u001b[0m\u001b[0m\n\u001b[0;32m     19\u001b[0m \u001b[1;33m\u001b[0m\u001b[0m\n\u001b[1;32m---> 20\u001b[1;33m \u001b[0mpercenti\u001b[0m\u001b[1;33m=\u001b[0m\u001b[0mpercenti\u001b[0m\u001b[1;33m/\u001b[0m\u001b[1;36m500\u001b[0m\u001b[1;33m\u001b[0m\u001b[1;33m\u001b[0m\u001b[0m\n\u001b[0m\u001b[0;32m     21\u001b[0m \u001b[1;33m\u001b[0m\u001b[0m\n\u001b[0;32m     22\u001b[0m message=\"\"\"\n",
      "\u001b[1;31mTypeError\u001b[0m: unsupported operand type(s) for /: 'str' and 'int'"
     ]
    }
   ],
   "source": [
    "name = input(\"Enter Your Name\")\n",
    "father_name = input(\"Enter your Father's name\")\n",
    "math=input(\"your math marks:\")\n",
    "phy=input(\"your phy marks:\")\n",
    "eng=input(\"your eng marks\")\n",
    "chem=input(\"your chem marks:\")\n",
    "urdu=input(\"your urdu marks\")\n",
    "int(math)\n",
    "int(phy)\n",
    "int(eng)\n",
    "int(chem)\n",
    "int(urdu)\n",
    "\n",
    "total=math+phy+eng+chem+urdu\n",
    "\n",
    "\n",
    "percenti=total*100\n",
    "int(percenti)\n",
    "\n",
    "percenti=percenti/500\n",
    "\n",
    "message=\"\"\"\n",
    "    Board of Intermediate\n",
    "    name:{}\n",
    "    father_name:{}\n",
    "    math marks:{}\n",
    "    phy marks:{}\n",
    "    eng marks:{}\n",
    "    chem marks:{}\n",
    "    urdu marks:{}\n",
    "    total gain:{}\n",
    "    out of:500\n",
    "    percentage:{}\n",
    "    \n",
    "\n",
    "\"\"\"\n",
    "message1=message.format(name,father_name,math,phy,eng,chem,urdu,total,percenti)\n",
    "\n",
    "print(message1)\n",
    "\n"
   ]
  },
  {
   "cell_type": "code",
   "execution_count": null,
   "metadata": {},
   "outputs": [],
   "source": []
  }
 ],
 "metadata": {
  "kernelspec": {
   "display_name": "Python 3",
   "language": "python",
   "name": "python3"
  },
  "language_info": {
   "codemirror_mode": {
    "name": "ipython",
    "version": 3
   },
   "file_extension": ".py",
   "mimetype": "text/x-python",
   "name": "python",
   "nbconvert_exporter": "python",
   "pygments_lexer": "ipython3",
   "version": "3.7.3"
  }
 },
 "nbformat": 4,
 "nbformat_minor": 2
}
