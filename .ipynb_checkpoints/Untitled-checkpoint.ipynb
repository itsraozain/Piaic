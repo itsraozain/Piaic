{
 "cells": [
  {
   "cell_type": "code",
   "execution_count": 2,
   "metadata": {},
   "outputs": [
    {
     "name": "stdout",
     "output_type": "stream",
     "text": [
      "Enter Your Namezain\n",
      "Enter your Father's namejamil\n",
      "Universitybahria\n",
      "\n",
      "PIAIC ISLAMABAD BATCH3\n",
      "Name : zain\n",
      "Father_Name: jamil \n",
      "University: bahria\n",
      "\n"
     ]
    }
   ],
   "source": [
    "name = input(\"Enter Your Name\")\n",
    "father_name = input(\"Enter your Father's name\")\n",
    "uni = input(\"University\")\n",
    "\n",
    "\n",
    "message = \"\"\"\n",
    "PIAIC ISLAMABAD BATCH3\n",
    "Name : {}\n",
    "Father_Name: {} \n",
    "University: {}\n",
    "\"\"\"\n",
    "\n",
    "message1 = message.format(name, father_name, uni)\n",
    "\n",
    "print(message1)"
   ]
  },
  {
   "cell_type": "code",
   "execution_count": 1,
   "metadata": {},
   "outputs": [
    {
     "name": "stdout",
     "output_type": "stream",
     "text": [
      "Enter Your Namezain\n",
      "Enter your Father's namejamil\n",
      "your math marks:45\n",
      "your phy marks:65\n",
      "your eng marks35\n",
      "your chem marks:65\n",
      "your urdu marks89\n",
      "\n",
      "    Board of Intermediate\n",
      "    name:zain\n",
      "    father_name:jamil\n",
      "    math marks:45\n",
      "    phy marks:65\n",
      "    eng marks:35\n",
      "    chem marks:65\n",
      "    urdu marks:89\n",
      "    total gain:299\n",
      "    out of:500\n",
      "    percentage:59.8\n",
      "    \n",
      "\n",
      "\n"
     ]
    }
   ],
   "source": [
    "name = input(\"Enter Your Name\")\n",
    "father_name = input(\"Enter your Father's name\")\n",
    "math=int(input(\"your math marks:\"))\n",
    "phy=int(input(\"your phy marks:\"))\n",
    "eng=int(input(\"your eng marks\"))\n",
    "chem=int(input(\"your chem marks:\"))\n",
    "urdu=int(input(\"your urdu marks\"))\n",
    "\n",
    "\n",
    "total=math+phy+eng+chem+urdu\n",
    "\n",
    "\n",
    "percenti=total*100\n",
    "float(percenti)\n",
    "percenti/=500\n",
    "\n",
    "\n",
    "\n",
    "\n",
    "message=\"\"\"\n",
    "    Board of Intermediate\n",
    "    name:{}\n",
    "    father_name:{}\n",
    "    math marks:{}\n",
    "    phy marks:{}\n",
    "    eng marks:{}\n",
    "    chem marks:{}\n",
    "    urdu marks:{}\n",
    "    total gain:{}\n",
    "    out of:500\n",
    "    percentage:{}\n",
    "    \n",
    "\n",
    "\"\"\"\n",
    "message1=message.format(name,father_name,math,phy,eng,chem,urdu,total,percenti)\n",
    "\n",
    "print(message1)\n",
    "\n"
   ]
  }
 ],
 "metadata": {
  "kernelspec": {
   "display_name": "Python 3",
   "language": "python",
   "name": "python3"
  },
  "language_info": {
   "codemirror_mode": {
    "name": "ipython",
    "version": 3
   },
   "file_extension": ".py",
   "mimetype": "text/x-python",
   "name": "python",
   "nbconvert_exporter": "python",
   "pygments_lexer": "ipython3",
   "version": "3.7.3"
  }
 },
 "nbformat": 4,
 "nbformat_minor": 2
}
